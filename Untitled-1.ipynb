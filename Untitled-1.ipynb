{
 "cells": [
  {
   "cell_type": "code",
   "execution_count": 336,
   "metadata": {},
   "outputs": [],
   "source": [
    "# DOWNLOAD https://www.kaggle.com/datasets/andrewsundberg/college-basketball-dataset/download?datasetVersionNumber=4\n",
    "import polars as pl\n",
    "import numpy as np\n",
    "import matplotlib.pyplot as plt\n"
   ]
  },
  {
   "cell_type": "code",
   "execution_count": 337,
   "metadata": {},
   "outputs": [],
   "source": [
    "# # unzip archive.zip and put them into a folder called cbb \n",
    "# !unzip archive.zip -d cbb\n",
    "# # erase the zip file\n",
    "# !rm archive.zip -y"
   ]
  },
  {
   "cell_type": "code",
   "execution_count": 338,
   "metadata": {},
   "outputs": [
    {
     "data": {
      "text/html": [
       "<div><style>\n",
       ".dataframe > thead > tr > th,\n",
       ".dataframe > tbody > tr > td {\n",
       "  text-align: right;\n",
       "}\n",
       "</style>\n",
       "<small>shape: (5, 24)</small><table border=\"1\" class=\"dataframe\"><thead><tr><th>TEAM</th><th>CONF</th><th>G</th><th>W</th><th>ADJOE</th><th>ADJDE</th><th>BARTHAG</th><th>EFG_O</th><th>EFG_D</th><th>TOR</th><th>TORD</th><th>ORB</th><th>DRB</th><th>FTR</th><th>FTRD</th><th>2P_O</th><th>2P_D</th><th>3P_O</th><th>3P_D</th><th>ADJ_T</th><th>WAB</th><th>POSTSEASON</th><th>SEED</th><th>YEAR</th></tr><tr><td>str</td><td>str</td><td>i64</td><td>i64</td><td>f64</td><td>f64</td><td>f64</td><td>f64</td><td>f64</td><td>f64</td><td>f64</td><td>f64</td><td>f64</td><td>f64</td><td>f64</td><td>f64</td><td>f64</td><td>f64</td><td>f64</td><td>f64</td><td>f64</td><td>str</td><td>str</td><td>i64</td></tr></thead><tbody><tr><td>&quot;North Carolina...</td><td>&quot;ACC&quot;</td><td>40</td><td>33</td><td>123.3</td><td>94.9</td><td>0.9531</td><td>52.6</td><td>48.1</td><td>15.4</td><td>18.2</td><td>40.7</td><td>30.0</td><td>32.3</td><td>30.4</td><td>53.9</td><td>44.6</td><td>32.7</td><td>36.2</td><td>71.7</td><td>8.6</td><td>&quot;2ND&quot;</td><td>&quot;1&quot;</td><td>2016</td></tr><tr><td>&quot;Wisconsin&quot;</td><td>&quot;B10&quot;</td><td>40</td><td>36</td><td>129.1</td><td>93.6</td><td>0.9758</td><td>54.8</td><td>47.7</td><td>12.4</td><td>15.8</td><td>32.1</td><td>23.7</td><td>36.2</td><td>22.4</td><td>54.8</td><td>44.7</td><td>36.5</td><td>37.5</td><td>59.3</td><td>11.3</td><td>&quot;2ND&quot;</td><td>&quot;1&quot;</td><td>2015</td></tr><tr><td>&quot;Michigan&quot;</td><td>&quot;B10&quot;</td><td>40</td><td>33</td><td>114.4</td><td>90.4</td><td>0.9375</td><td>53.9</td><td>47.7</td><td>14.0</td><td>19.5</td><td>25.5</td><td>24.9</td><td>30.7</td><td>30.0</td><td>54.7</td><td>46.8</td><td>35.2</td><td>33.2</td><td>65.9</td><td>6.9</td><td>&quot;2ND&quot;</td><td>&quot;3&quot;</td><td>2018</td></tr><tr><td>&quot;Texas Tech&quot;</td><td>&quot;B12&quot;</td><td>38</td><td>31</td><td>115.2</td><td>85.2</td><td>0.9696</td><td>53.5</td><td>43.0</td><td>17.7</td><td>22.8</td><td>27.4</td><td>28.7</td><td>32.9</td><td>36.6</td><td>52.8</td><td>41.9</td><td>36.5</td><td>29.7</td><td>67.5</td><td>7.0</td><td>&quot;2ND&quot;</td><td>&quot;3&quot;</td><td>2019</td></tr><tr><td>&quot;Gonzaga&quot;</td><td>&quot;WCC&quot;</td><td>39</td><td>37</td><td>117.8</td><td>86.3</td><td>0.9728</td><td>56.6</td><td>41.1</td><td>16.2</td><td>17.1</td><td>30.0</td><td>26.2</td><td>39.0</td><td>26.9</td><td>56.3</td><td>40.0</td><td>38.2</td><td>29.0</td><td>71.5</td><td>7.7</td><td>&quot;2ND&quot;</td><td>&quot;1&quot;</td><td>2017</td></tr></tbody></table></div>"
      ],
      "text/plain": [
       "shape: (5, 24)\n",
       "┌────────────────┬──────┬─────┬─────┬─────┬──────┬────────────┬──────┬──────┐\n",
       "│ TEAM           ┆ CONF ┆ G   ┆ W   ┆ ... ┆ WAB  ┆ POSTSEASON ┆ SEED ┆ YEAR │\n",
       "│ ---            ┆ ---  ┆ --- ┆ --- ┆     ┆ ---  ┆ ---        ┆ ---  ┆ ---  │\n",
       "│ str            ┆ str  ┆ i64 ┆ i64 ┆     ┆ f64  ┆ str        ┆ str  ┆ i64  │\n",
       "╞════════════════╪══════╪═════╪═════╪═════╪══════╪════════════╪══════╪══════╡\n",
       "│ North Carolina ┆ ACC  ┆ 40  ┆ 33  ┆ ... ┆ 8.6  ┆ 2ND        ┆ 1    ┆ 2016 │\n",
       "│ Wisconsin      ┆ B10  ┆ 40  ┆ 36  ┆ ... ┆ 11.3 ┆ 2ND        ┆ 1    ┆ 2015 │\n",
       "│ Michigan       ┆ B10  ┆ 40  ┆ 33  ┆ ... ┆ 6.9  ┆ 2ND        ┆ 3    ┆ 2018 │\n",
       "│ Texas Tech     ┆ B12  ┆ 38  ┆ 31  ┆ ... ┆ 7.0  ┆ 2ND        ┆ 3    ┆ 2019 │\n",
       "│ Gonzaga        ┆ WCC  ┆ 39  ┆ 37  ┆ ... ┆ 7.7  ┆ 2ND        ┆ 1    ┆ 2017 │\n",
       "└────────────────┴──────┴─────┴─────┴─────┴──────┴────────────┴──────┴──────┘"
      ]
     },
     "execution_count": 338,
     "metadata": {},
     "output_type": "execute_result"
    }
   ],
   "source": [
    "cbb = pl.read_csv('cbb/cbb.csv')\n",
    "cbb.head()"
   ]
  },
  {
   "cell_type": "code",
   "execution_count": 339,
   "metadata": {},
   "outputs": [
    {
     "data": {
      "text/html": [
       "<div><style>\n",
       ".dataframe > thead > tr > th,\n",
       ".dataframe > tbody > tr > td {\n",
       "  text-align: right;\n",
       "}\n",
       "</style>\n",
       "<small>shape: (7, 25)</small><table border=\"1\" class=\"dataframe\"><thead><tr><th>describe</th><th>TEAM</th><th>CONF</th><th>G</th><th>W</th><th>ADJOE</th><th>ADJDE</th><th>BARTHAG</th><th>EFG_O</th><th>EFG_D</th><th>TOR</th><th>TORD</th><th>ORB</th><th>DRB</th><th>FTR</th><th>FTRD</th><th>2P_O</th><th>2P_D</th><th>3P_O</th><th>3P_D</th><th>ADJ_T</th><th>WAB</th><th>POSTSEASON</th><th>SEED</th><th>YEAR</th></tr><tr><td>str</td><td>str</td><td>str</td><td>f64</td><td>f64</td><td>f64</td><td>f64</td><td>f64</td><td>f64</td><td>f64</td><td>f64</td><td>f64</td><td>f64</td><td>f64</td><td>f64</td><td>f64</td><td>f64</td><td>f64</td><td>f64</td><td>f64</td><td>f64</td><td>f64</td><td>str</td><td>str</td><td>f64</td></tr></thead><tbody><tr><td>&quot;count&quot;</td><td>&quot;2455&quot;</td><td>&quot;2455&quot;</td><td>2455.0</td><td>2455.0</td><td>2455.0</td><td>2455.0</td><td>2455.0</td><td>2455.0</td><td>2455.0</td><td>2455.0</td><td>2455.0</td><td>2455.0</td><td>2455.0</td><td>2455.0</td><td>2455.0</td><td>2455.0</td><td>2455.0</td><td>2455.0</td><td>2455.0</td><td>2455.0</td><td>2455.0</td><td>&quot;2455&quot;</td><td>&quot;2455&quot;</td><td>2455.0</td></tr><tr><td>&quot;null_count&quot;</td><td>&quot;0&quot;</td><td>&quot;0&quot;</td><td>0.0</td><td>0.0</td><td>0.0</td><td>0.0</td><td>0.0</td><td>0.0</td><td>0.0</td><td>0.0</td><td>0.0</td><td>0.0</td><td>0.0</td><td>0.0</td><td>0.0</td><td>0.0</td><td>0.0</td><td>0.0</td><td>0.0</td><td>0.0</td><td>0.0</td><td>&quot;0&quot;</td><td>&quot;0&quot;</td><td>0.0</td></tr><tr><td>&quot;mean&quot;</td><td>null</td><td>null</td><td>31.492464</td><td>16.284318</td><td>103.304481</td><td>103.304603</td><td>0.493957</td><td>49.805132</td><td>50.001385</td><td>18.763055</td><td>18.689572</td><td>29.875642</td><td>30.075479</td><td>35.989776</td><td>36.26998</td><td>48.802281</td><td>48.97666</td><td>34.406395</td><td>34.598737</td><td>67.812301</td><td>-7.802485</td><td>null</td><td>null</td><td>2016.007332</td></tr><tr><td>&quot;std&quot;</td><td>null</td><td>null</td><td>2.657401</td><td>6.61096</td><td>7.376981</td><td>6.605318</td><td>0.256244</td><td>3.143061</td><td>2.939602</td><td>2.090595</td><td>2.201749</td><td>4.134332</td><td>3.151454</td><td>5.24782</td><td>6.2459</td><td>3.384468</td><td>3.340546</td><td>2.789434</td><td>2.415766</td><td>3.277622</td><td>6.965736</td><td>null</td><td>null</td><td>1.999375</td></tr><tr><td>&quot;min&quot;</td><td>&quot;Abilene Christ...</td><td>&quot;A10&quot;</td><td>15.0</td><td>0.0</td><td>76.6</td><td>84.0</td><td>0.005</td><td>39.2</td><td>39.6</td><td>11.9</td><td>10.2</td><td>15.0</td><td>18.4</td><td>21.6</td><td>21.8</td><td>37.7</td><td>37.7</td><td>24.9</td><td>27.1</td><td>57.2</td><td>-25.2</td><td>&quot;2ND&quot;</td><td>&quot;1&quot;</td><td>2013.0</td></tr><tr><td>&quot;max&quot;</td><td>&quot;Youngstown St....</td><td>&quot;ind&quot;</td><td>40.0</td><td>38.0</td><td>129.1</td><td>124.0</td><td>0.9842</td><td>59.8</td><td>59.5</td><td>27.1</td><td>28.5</td><td>43.6</td><td>40.4</td><td>58.6</td><td>60.7</td><td>62.6</td><td>61.2</td><td>44.1</td><td>43.1</td><td>83.4</td><td>13.1</td><td>&quot;S16&quot;</td><td>&quot;NA&quot;</td><td>2019.0</td></tr><tr><td>&quot;median&quot;</td><td>null</td><td>null</td><td>31.0</td><td>16.0</td><td>103.0</td><td>103.5</td><td>0.475</td><td>49.7</td><td>50.0</td><td>18.7</td><td>18.6</td><td>29.9</td><td>30.0</td><td>35.8</td><td>35.8</td><td>48.7</td><td>49.0</td><td>34.4</td><td>34.6</td><td>67.8</td><td>-8.3</td><td>null</td><td>null</td><td>2016.0</td></tr></tbody></table></div>"
      ],
      "text/plain": [
       "shape: (7, 25)\n",
       "┌────────────┬──────────────┬──────┬───────────┬─────┬───────────┬────────────┬──────┬─────────────┐\n",
       "│ describe   ┆ TEAM         ┆ CONF ┆ G         ┆ ... ┆ WAB       ┆ POSTSEASON ┆ SEED ┆ YEAR        │\n",
       "│ ---        ┆ ---          ┆ ---  ┆ ---       ┆     ┆ ---       ┆ ---        ┆ ---  ┆ ---         │\n",
       "│ str        ┆ str          ┆ str  ┆ f64       ┆     ┆ f64       ┆ str        ┆ str  ┆ f64         │\n",
       "╞════════════╪══════════════╪══════╪═══════════╪═════╪═══════════╪════════════╪══════╪═════════════╡\n",
       "│ count      ┆ 2455         ┆ 2455 ┆ 2455.0    ┆ ... ┆ 2455.0    ┆ 2455       ┆ 2455 ┆ 2455.0      │\n",
       "│ null_count ┆ 0            ┆ 0    ┆ 0.0       ┆ ... ┆ 0.0       ┆ 0          ┆ 0    ┆ 0.0         │\n",
       "│ mean       ┆ null         ┆ null ┆ 31.492464 ┆ ... ┆ -7.802485 ┆ null       ┆ null ┆ 2016.007332 │\n",
       "│ std        ┆ null         ┆ null ┆ 2.657401  ┆ ... ┆ 6.965736  ┆ null       ┆ null ┆ 1.999375    │\n",
       "│ min        ┆ Abilene      ┆ A10  ┆ 15.0      ┆ ... ┆ -25.2     ┆ 2ND        ┆ 1    ┆ 2013.0      │\n",
       "│            ┆ Christian    ┆      ┆           ┆     ┆           ┆            ┆      ┆             │\n",
       "│ max        ┆ Youngstown   ┆ ind  ┆ 40.0      ┆ ... ┆ 13.1      ┆ S16        ┆ NA   ┆ 2019.0      │\n",
       "│            ┆ St.          ┆      ┆           ┆     ┆           ┆            ┆      ┆             │\n",
       "│ median     ┆ null         ┆ null ┆ 31.0      ┆ ... ┆ -8.3      ┆ null       ┆ null ┆ 2016.0      │\n",
       "└────────────┴──────────────┴──────┴───────────┴─────┴───────────┴────────────┴──────┴─────────────┘"
      ]
     },
     "execution_count": 339,
     "metadata": {},
     "output_type": "execute_result"
    }
   ],
   "source": [
    "cbb.describe()"
   ]
  },
  {
   "cell_type": "code",
   "execution_count": null,
   "metadata": {},
   "outputs": [],
   "source": []
  },
  {
   "cell_type": "code",
   "execution_count": 340,
   "metadata": {},
   "outputs": [
    {
     "data": {
      "text/html": [
       "<div><style>\n",
       ".dataframe > thead > tr > th,\n",
       ".dataframe > tbody > tr > td {\n",
       "  text-align: right;\n",
       "}\n",
       "</style>\n",
       "<small>shape: (7, 25)</small><table border=\"1\" class=\"dataframe\"><thead><tr><th>describe</th><th>TEAM</th><th>CONF</th><th>G</th><th>W</th><th>ADJOE</th><th>ADJDE</th><th>BARTHAG</th><th>EFG_O</th><th>EFG_D</th><th>TOR</th><th>TORD</th><th>ORB</th><th>DRB</th><th>FTR</th><th>FTRD</th><th>2P_O</th><th>2P_D</th><th>3P_O</th><th>3P_D</th><th>ADJ_T</th><th>WAB</th><th>POSTSEASON</th><th>SEED</th><th>YEAR</th></tr><tr><td>str</td><td>str</td><td>str</td><td>f64</td><td>f64</td><td>f64</td><td>f64</td><td>f64</td><td>f64</td><td>f64</td><td>f64</td><td>f64</td><td>f64</td><td>f64</td><td>f64</td><td>f64</td><td>f64</td><td>f64</td><td>f64</td><td>f64</td><td>f64</td><td>f64</td><td>str</td><td>str</td><td>f64</td></tr></thead><tbody><tr><td>&quot;count&quot;</td><td>&quot;7&quot;</td><td>&quot;7&quot;</td><td>7.0</td><td>7.0</td><td>7.0</td><td>7.0</td><td>7.0</td><td>7.0</td><td>7.0</td><td>7.0</td><td>7.0</td><td>7.0</td><td>7.0</td><td>7.0</td><td>7.0</td><td>7.0</td><td>7.0</td><td>7.0</td><td>7.0</td><td>7.0</td><td>7.0</td><td>&quot;7&quot;</td><td>&quot;7&quot;</td><td>7.0</td></tr><tr><td>&quot;null_count&quot;</td><td>&quot;0&quot;</td><td>&quot;0&quot;</td><td>0.0</td><td>0.0</td><td>0.0</td><td>0.0</td><td>0.0</td><td>0.0</td><td>0.0</td><td>0.0</td><td>0.0</td><td>0.0</td><td>0.0</td><td>0.0</td><td>0.0</td><td>0.0</td><td>0.0</td><td>0.0</td><td>0.0</td><td>0.0</td><td>0.0</td><td>&quot;0&quot;</td><td>&quot;0&quot;</td><td>0.0</td></tr><tr><td>&quot;mean&quot;</td><td>null</td><td>null</td><td>39.285714</td><td>32.714286</td><td>119.785714</td><td>91.471429</td><td>0.952457</td><td>53.7</td><td>45.942857</td><td>15.485714</td><td>18.314286</td><td>32.885714</td><td>27.514286</td><td>35.9</td><td>29.4</td><td>53.7</td><td>44.357143</td><td>35.742857</td><td>32.914286</td><td>66.657143</td><td>7.371429</td><td>null</td><td>null</td><td>2016.0</td></tr><tr><td>&quot;std&quot;</td><td>null</td><td>null</td><td>0.95119</td><td>2.984085</td><td>5.207504</td><td>4.297951</td><td>0.024551</td><td>2.088061</td><td>2.804079</td><td>2.031771</td><td>2.39404</td><td>6.296409</td><td>2.550443</td><td>7.829006</td><td>5.889256</td><td>1.983263</td><td>2.645031</td><td>2.154729</td><td>3.113641</td><td>4.248865</td><td>2.266947</td><td>null</td><td>null</td><td>2.160247</td></tr><tr><td>&quot;min&quot;</td><td>&quot;Gonzaga&quot;</td><td>&quot;ACC&quot;</td><td>38.0</td><td>29.0</td><td>114.4</td><td>85.2</td><td>0.9062</td><td>49.9</td><td>41.1</td><td>12.4</td><td>15.8</td><td>25.5</td><td>23.7</td><td>28.4</td><td>22.4</td><td>50.0</td><td>40.0</td><td>32.7</td><td>29.0</td><td>59.3</td><td>3.9</td><td>&quot;2ND&quot;</td><td>&quot;1&quot;</td><td>2013.0</td></tr><tr><td>&quot;max&quot;</td><td>&quot;Wisconsin&quot;</td><td>&quot;WCC&quot;</td><td>40.0</td><td>37.0</td><td>129.1</td><td>96.2</td><td>0.9758</td><td>56.6</td><td>48.1</td><td>18.1</td><td>22.8</td><td>42.0</td><td>30.0</td><td>51.8</td><td>36.8</td><td>56.3</td><td>47.6</td><td>38.2</td><td>37.5</td><td>71.7</td><td>11.3</td><td>&quot;2ND&quot;</td><td>&quot;8&quot;</td><td>2019.0</td></tr><tr><td>&quot;median&quot;</td><td>null</td><td>null</td><td>40.0</td><td>33.0</td><td>117.8</td><td>93.6</td><td>0.9531</td><td>53.9</td><td>47.7</td><td>15.4</td><td>18.2</td><td>32.1</td><td>28.7</td><td>32.9</td><td>30.0</td><td>53.9</td><td>44.7</td><td>36.5</td><td>32.6</td><td>65.9</td><td>7.0</td><td>null</td><td>null</td><td>2016.0</td></tr></tbody></table></div>"
      ],
      "text/plain": [
       "shape: (7, 25)\n",
       "┌────────────┬───────────┬──────┬───────────┬─────┬──────────┬────────────┬──────┬──────────┐\n",
       "│ describe   ┆ TEAM      ┆ CONF ┆ G         ┆ ... ┆ WAB      ┆ POSTSEASON ┆ SEED ┆ YEAR     │\n",
       "│ ---        ┆ ---       ┆ ---  ┆ ---       ┆     ┆ ---      ┆ ---        ┆ ---  ┆ ---      │\n",
       "│ str        ┆ str       ┆ str  ┆ f64       ┆     ┆ f64      ┆ str        ┆ str  ┆ f64      │\n",
       "╞════════════╪═══════════╪══════╪═══════════╪═════╪══════════╪════════════╪══════╪══════════╡\n",
       "│ count      ┆ 7         ┆ 7    ┆ 7.0       ┆ ... ┆ 7.0      ┆ 7          ┆ 7    ┆ 7.0      │\n",
       "│ null_count ┆ 0         ┆ 0    ┆ 0.0       ┆ ... ┆ 0.0      ┆ 0          ┆ 0    ┆ 0.0      │\n",
       "│ mean       ┆ null      ┆ null ┆ 39.285714 ┆ ... ┆ 7.371429 ┆ null       ┆ null ┆ 2016.0   │\n",
       "│ std        ┆ null      ┆ null ┆ 0.95119   ┆ ... ┆ 2.266947 ┆ null       ┆ null ┆ 2.160247 │\n",
       "│ min        ┆ Gonzaga   ┆ ACC  ┆ 38.0      ┆ ... ┆ 3.9      ┆ 2ND        ┆ 1    ┆ 2013.0   │\n",
       "│ max        ┆ Wisconsin ┆ WCC  ┆ 40.0      ┆ ... ┆ 11.3     ┆ 2ND        ┆ 8    ┆ 2019.0   │\n",
       "│ median     ┆ null      ┆ null ┆ 40.0      ┆ ... ┆ 7.0      ┆ null       ┆ null ┆ 2016.0   │\n",
       "└────────────┴───────────┴──────┴───────────┴─────┴──────────┴────────────┴──────┴──────────┘"
      ]
     },
     "execution_count": 340,
     "metadata": {},
     "output_type": "execute_result"
    }
   ],
   "source": [
    "# compare the two \n",
    "cbb_champions.describe()\n",
    "\n",
    "cbb_2nd.describe()"
   ]
  },
  {
   "cell_type": "code",
   "execution_count": 341,
   "metadata": {},
   "outputs": [
    {
     "data": {
      "text/html": [
       "<div><style>\n",
       ".dataframe > thead > tr > th,\n",
       ".dataframe > tbody > tr > td {\n",
       "  text-align: right;\n",
       "}\n",
       "</style>\n",
       "<small>shape: (188, 2)</small><table border=\"1\" class=\"dataframe\"><thead><tr><th>TEAM</th><th>count</th></tr><tr><td>str</td><td>u32</td></tr></thead><tbody><tr><td>&quot;Gonzaga&quot;</td><td>7</td></tr><tr><td>&quot;Cincinnati&quot;</td><td>7</td></tr><tr><td>&quot;Duke&quot;</td><td>7</td></tr><tr><td>&quot;Villanova&quot;</td><td>7</td></tr><tr><td>&quot;Kansas&quot;</td><td>7</td></tr><tr><td>&quot;North Carolina...</td><td>7</td></tr><tr><td>&quot;Michigan St.&quot;</td><td>7</td></tr><tr><td>&quot;Kentucky&quot;</td><td>6</td></tr><tr><td>&quot;VCU&quot;</td><td>6</td></tr><tr><td>&quot;Wichita St.&quot;</td><td>6</td></tr><tr><td>&quot;Wisconsin&quot;</td><td>6</td></tr><tr><td>&quot;Arizona&quot;</td><td>6</td></tr><tr><td>...</td><td>...</td></tr><tr><td>&quot;North Dakota&quot;</td><td>1</td></tr><tr><td>&quot;Stanford&quot;</td><td>1</td></tr><tr><td>&quot;UNC Greensboro...</td><td>1</td></tr><tr><td>&quot;Nebraska&quot;</td><td>1</td></tr><tr><td>&quot;American&quot;</td><td>1</td></tr><tr><td>&quot;North Florida&quot;</td><td>1</td></tr><tr><td>&quot;Massachusetts&quot;</td><td>1</td></tr><tr><td>&quot;Marshall&quot;</td><td>1</td></tr><tr><td>&quot;Holy Cross&quot;</td><td>1</td></tr><tr><td>&quot;Western Kentuc...</td><td>1</td></tr><tr><td>&quot;Lipscomb&quot;</td><td>1</td></tr><tr><td>&quot;Georgia&quot;</td><td>1</td></tr></tbody></table></div>"
      ],
      "text/plain": [
       "shape: (188, 2)\n",
       "┌──────────────────┬───────┐\n",
       "│ TEAM             ┆ count │\n",
       "│ ---              ┆ ---   │\n",
       "│ str              ┆ u32   │\n",
       "╞══════════════════╪═══════╡\n",
       "│ Gonzaga          ┆ 7     │\n",
       "│ Cincinnati       ┆ 7     │\n",
       "│ Duke             ┆ 7     │\n",
       "│ Villanova        ┆ 7     │\n",
       "│ ...              ┆ ...   │\n",
       "│ Holy Cross       ┆ 1     │\n",
       "│ Western Kentucky ┆ 1     │\n",
       "│ Lipscomb         ┆ 1     │\n",
       "│ Georgia          ┆ 1     │\n",
       "└──────────────────┴───────┘"
      ]
     },
     "execution_count": 341,
     "metadata": {},
     "output_type": "execute_result"
    }
   ],
   "source": [
    "# who has qualified the most times, qualifiying means they're not in NA\n",
    "\n",
    "cbb.filter(pl.col('POSTSEASON') != 'NA').select(['TEAM', 'YEAR']).sort('YEAR', descending=True).groupby(\"TEAM\").count().sort('count', descending=True)"
   ]
  },
  {
   "cell_type": "code",
   "execution_count": 342,
   "metadata": {},
   "outputs": [
    {
     "data": {
      "text/html": [
       "<div><style>\n",
       ".dataframe > thead > tr > th,\n",
       ".dataframe > tbody > tr > td {\n",
       "  text-align: right;\n",
       "}\n",
       "</style>\n",
       "<small>shape: (39, 2)</small><table border=\"1\" class=\"dataframe\"><thead><tr><th>TEAM</th><th>count</th></tr><tr><td>str</td><td>u32</td></tr></thead><tbody><tr><td>&quot;West Virginia&quot;</td><td>3</td></tr><tr><td>&quot;UCLA&quot;</td><td>3</td></tr><tr><td>&quot;Michigan&quot;</td><td>2</td></tr><tr><td>&quot;Indiana&quot;</td><td>2</td></tr><tr><td>&quot;Gonzaga&quot;</td><td>2</td></tr><tr><td>&quot;Texas A&amp;M&quot;</td><td>2</td></tr><tr><td>&quot;Miami FL&quot;</td><td>2</td></tr><tr><td>&quot;Oregon&quot;</td><td>2</td></tr><tr><td>&quot;Arizona&quot;</td><td>2</td></tr><tr><td>&quot;Tennessee&quot;</td><td>2</td></tr><tr><td>&quot;Baylor&quot;</td><td>2</td></tr><tr><td>&quot;Wisconsin&quot;</td><td>2</td></tr><tr><td>...</td><td>...</td></tr><tr><td>&quot;Houston&quot;</td><td>1</td></tr><tr><td>&quot;Duke&quot;</td><td>1</td></tr><tr><td>&quot;Kentucky&quot;</td><td>1</td></tr><tr><td>&quot;North Carolina...</td><td>1</td></tr><tr><td>&quot;Louisville&quot;</td><td>1</td></tr><tr><td>&quot;Oklahoma&quot;</td><td>1</td></tr><tr><td>&quot;Maryland&quot;</td><td>1</td></tr><tr><td>&quot;Florida St.&quot;</td><td>1</td></tr><tr><td>&quot;Florida Gulf C...</td><td>1</td></tr><tr><td>&quot;LSU&quot;</td><td>1</td></tr><tr><td>&quot;Nevada&quot;</td><td>1</td></tr><tr><td>&quot;Virginia Tech&quot;</td><td>1</td></tr></tbody></table></div>"
      ],
      "text/plain": [
       "shape: (39, 2)\n",
       "┌────────────────────┬───────┐\n",
       "│ TEAM               ┆ count │\n",
       "│ ---                ┆ ---   │\n",
       "│ str                ┆ u32   │\n",
       "╞════════════════════╪═══════╡\n",
       "│ West Virginia      ┆ 3     │\n",
       "│ UCLA               ┆ 3     │\n",
       "│ Michigan           ┆ 2     │\n",
       "│ Indiana            ┆ 2     │\n",
       "│ ...                ┆ ...   │\n",
       "│ Florida Gulf Coast ┆ 1     │\n",
       "│ LSU                ┆ 1     │\n",
       "│ Nevada             ┆ 1     │\n",
       "│ Virginia Tech      ┆ 1     │\n",
       "└────────────────────┴───────┘"
      ]
     },
     "execution_count": 342,
     "metadata": {},
     "output_type": "execute_result"
    }
   ],
   "source": [
    "# who has made it to the sweet 16 the most? \n",
    "s16 = cbb.filter(pl.col('POSTSEASON') == 'S16').select(['TEAM', 'YEAR']).sort('YEAR', descending=True).groupby(\"TEAM\").count()\n",
    "s16.sort('count', descending=True)"
   ]
  },
  {
   "cell_type": "code",
   "execution_count": 343,
   "metadata": {},
   "outputs": [
    {
     "data": {
      "text/html": [
       "<div><style>\n",
       ".dataframe > thead > tr > th,\n",
       ".dataframe > tbody > tr > td {\n",
       "  text-align: right;\n",
       "}\n",
       "</style>\n",
       "<small>shape: (6, 2)</small><table border=\"1\" class=\"dataframe\"><thead><tr><th>TEAM</th><th>count</th></tr><tr><td>str</td><td>u32</td></tr></thead><tbody><tr><td>&quot;Gonzaga&quot;</td><td>1</td></tr><tr><td>&quot;Kentucky&quot;</td><td>1</td></tr><tr><td>&quot;North Carolina...</td><td>1</td></tr><tr><td>&quot;Texas Tech&quot;</td><td>1</td></tr><tr><td>&quot;Michigan&quot;</td><td>2</td></tr><tr><td>&quot;Wisconsin&quot;</td><td>1</td></tr></tbody></table></div>"
      ],
      "text/plain": [
       "shape: (6, 2)\n",
       "┌────────────────┬───────┐\n",
       "│ TEAM           ┆ count │\n",
       "│ ---            ┆ ---   │\n",
       "│ str            ┆ u32   │\n",
       "╞════════════════╪═══════╡\n",
       "│ Gonzaga        ┆ 1     │\n",
       "│ Kentucky       ┆ 1     │\n",
       "│ North Carolina ┆ 1     │\n",
       "│ Texas Tech     ┆ 1     │\n",
       "│ Michigan       ┆ 2     │\n",
       "│ Wisconsin      ┆ 1     │\n",
       "└────────────────┴───────┘"
      ]
     },
     "execution_count": 343,
     "metadata": {},
     "output_type": "execute_result"
    }
   ],
   "source": [
    "cbb_2nd.select(['TEAM', 'YEAR']).sort('YEAR', descending=True).groupby(\"TEAM\").count()"
   ]
  },
  {
   "cell_type": "code",
   "execution_count": 344,
   "metadata": {},
   "outputs": [
    {
     "data": {
      "text/html": [
       "<div><style>\n",
       ".dataframe > thead > tr > th,\n",
       ".dataframe > tbody > tr > td {\n",
       "  text-align: right;\n",
       "}\n",
       "</style>\n",
       "<small>shape: (6, 2)</small><table border=\"1\" class=\"dataframe\"><thead><tr><th>TEAM</th><th>count</th></tr><tr><td>str</td><td>u32</td></tr></thead><tbody><tr><td>&quot;Louisville&quot;</td><td>1</td></tr><tr><td>&quot;Villanova&quot;</td><td>2</td></tr><tr><td>&quot;Connecticut&quot;</td><td>1</td></tr><tr><td>&quot;Virginia&quot;</td><td>1</td></tr><tr><td>&quot;North Carolina...</td><td>1</td></tr><tr><td>&quot;Duke&quot;</td><td>1</td></tr></tbody></table></div>"
      ],
      "text/plain": [
       "shape: (6, 2)\n",
       "┌────────────────┬───────┐\n",
       "│ TEAM           ┆ count │\n",
       "│ ---            ┆ ---   │\n",
       "│ str            ┆ u32   │\n",
       "╞════════════════╪═══════╡\n",
       "│ Louisville     ┆ 1     │\n",
       "│ Villanova      ┆ 2     │\n",
       "│ Connecticut    ┆ 1     │\n",
       "│ Virginia       ┆ 1     │\n",
       "│ North Carolina ┆ 1     │\n",
       "│ Duke           ┆ 1     │\n",
       "└────────────────┴───────┘"
      ]
     },
     "execution_count": 344,
     "metadata": {},
     "output_type": "execute_result"
    }
   ],
   "source": [
    "# who's been the most champions?\n",
    "\n",
    "cbb_champions.select(['TEAM', 'YEAR']).sort('YEAR', descending=True).groupby(\"TEAM\").count()"
   ]
  },
  {
   "cell_type": "code",
   "execution_count": 345,
   "metadata": {},
   "outputs": [
    {
     "data": {
      "text/html": [
       "<div><style>\n",
       ".dataframe > thead > tr > th,\n",
       ".dataframe > tbody > tr > td {\n",
       "  text-align: right;\n",
       "}\n",
       "</style>\n",
       "<small>shape: (9, 2)</small><table border=\"1\" class=\"dataframe\"><thead><tr><th>POSTSEASON</th><th>count</th></tr><tr><td>str</td><td>u32</td></tr></thead><tbody><tr><td>&quot;R32&quot;</td><td>112</td></tr><tr><td>&quot;2ND&quot;</td><td>7</td></tr><tr><td>&quot;R64&quot;</td><td>224</td></tr><tr><td>&quot;R68&quot;</td><td>28</td></tr><tr><td>&quot;E8&quot;</td><td>28</td></tr><tr><td>&quot;Champions&quot;</td><td>7</td></tr><tr><td>&quot;NA&quot;</td><td>1979</td></tr><tr><td>&quot;S16&quot;</td><td>56</td></tr><tr><td>&quot;F4&quot;</td><td>14</td></tr></tbody></table></div>"
      ],
      "text/plain": [
       "shape: (9, 2)\n",
       "┌────────────┬───────┐\n",
       "│ POSTSEASON ┆ count │\n",
       "│ ---        ┆ ---   │\n",
       "│ str        ┆ u32   │\n",
       "╞════════════╪═══════╡\n",
       "│ R32        ┆ 112   │\n",
       "│ 2ND        ┆ 7     │\n",
       "│ R64        ┆ 224   │\n",
       "│ R68        ┆ 28    │\n",
       "│ ...        ┆ ...   │\n",
       "│ Champions  ┆ 7     │\n",
       "│ NA         ┆ 1979  │\n",
       "│ S16        ┆ 56    │\n",
       "│ F4         ┆ 14    │\n",
       "└────────────┴───────┘"
      ]
     },
     "execution_count": 345,
     "metadata": {},
     "output_type": "execute_result"
    }
   ],
   "source": [
    "# what kind of postseason information do we have?\n",
    "\n",
    "cbb.groupby('POSTSEASON').count()"
   ]
  },
  {
   "cell_type": "code",
   "execution_count": 346,
   "metadata": {},
   "outputs": [],
   "source": [
    "# what about the Georgia teams like uGA (Georgia), Georgia Tech, Georgia State, GA Southern etc.\n",
    "\n",
    "ga = cbb.filter(pl.col('TEAM').str.contains('Georgia'))"
   ]
  },
  {
   "cell_type": "code",
   "execution_count": 347,
   "metadata": {},
   "outputs": [
    {
     "data": {
      "text/html": [
       "<div><style>\n",
       ".dataframe > thead > tr > th,\n",
       ".dataframe > tbody > tr > td {\n",
       "  text-align: right;\n",
       "}\n",
       "</style>\n",
       "<small>shape: (28, 24)</small><table border=\"1\" class=\"dataframe\"><thead><tr><th>TEAM</th><th>CONF</th><th>G</th><th>W</th><th>ADJOE</th><th>ADJDE</th><th>BARTHAG</th><th>EFG_O</th><th>EFG_D</th><th>TOR</th><th>TORD</th><th>ORB</th><th>DRB</th><th>FTR</th><th>FTRD</th><th>2P_O</th><th>2P_D</th><th>3P_O</th><th>3P_D</th><th>ADJ_T</th><th>WAB</th><th>POSTSEASON</th><th>SEED</th><th>YEAR</th></tr><tr><td>str</td><td>str</td><td>i64</td><td>i64</td><td>f64</td><td>f64</td><td>f64</td><td>f64</td><td>f64</td><td>f64</td><td>f64</td><td>f64</td><td>f64</td><td>f64</td><td>f64</td><td>f64</td><td>f64</td><td>f64</td><td>f64</td><td>f64</td><td>f64</td><td>str</td><td>str</td><td>i64</td></tr></thead><tbody><tr><td>&quot;Georgia Tech&quot;</td><td>&quot;ACC&quot;</td><td>31</td><td>12</td><td>102.1</td><td>92.9</td><td>0.7463</td><td>44.4</td><td>49.2</td><td>19.6</td><td>18.0</td><td>38.7</td><td>25.8</td><td>31.1</td><td>33.8</td><td>46.1</td><td>49.9</td><td>26.7</td><td>31.9</td><td>64.2</td><td>-6.1</td><td>&quot;NA&quot;</td><td>&quot;NA&quot;</td><td>2015</td></tr><tr><td>&quot;Georgia Tech&quot;</td><td>&quot;ACC&quot;</td><td>36</td><td>21</td><td>113.9</td><td>98.2</td><td>0.845</td><td>49.8</td><td>49.1</td><td>16.7</td><td>14.6</td><td>37.5</td><td>27.2</td><td>31.7</td><td>31.7</td><td>48.4</td><td>49.5</td><td>35.7</td><td>32.0</td><td>67.8</td><td>0.0</td><td>&quot;NA&quot;</td><td>&quot;NA&quot;</td><td>2016</td></tr><tr><td>&quot;Georgia Tech&quot;</td><td>&quot;ACC&quot;</td><td>36</td><td>21</td><td>99.4</td><td>90.6</td><td>0.743</td><td>47.4</td><td>46.0</td><td>19.3</td><td>18.8</td><td>27.7</td><td>30.8</td><td>35.8</td><td>27.4</td><td>46.9</td><td>43.9</td><td>32.5</td><td>33.1</td><td>69.2</td><td>-2.1</td><td>&quot;NA&quot;</td><td>&quot;NA&quot;</td><td>2017</td></tr><tr><td>&quot;Georgia Tech&quot;</td><td>&quot;ACC&quot;</td><td>32</td><td>13</td><td>103.4</td><td>98.5</td><td>0.6385</td><td>46.9</td><td>49.2</td><td>19.2</td><td>18.9</td><td>30.8</td><td>30.6</td><td>34.8</td><td>31.8</td><td>46.6</td><td>45.4</td><td>31.8</td><td>37.9</td><td>67.0</td><td>-6.7</td><td>&quot;NA&quot;</td><td>&quot;NA&quot;</td><td>2018</td></tr><tr><td>&quot;Georgia Tech&quot;</td><td>&quot;ACC&quot;</td><td>32</td><td>14</td><td>99.9</td><td>95.7</td><td>0.6205</td><td>49.2</td><td>45.7</td><td>21.0</td><td>18.7</td><td>25.3</td><td>31.6</td><td>34.3</td><td>34.8</td><td>50.7</td><td>46.3</td><td>30.7</td><td>29.7</td><td>68.5</td><td>-4.8</td><td>&quot;NA&quot;</td><td>&quot;NA&quot;</td><td>2019</td></tr><tr><td>&quot;Georgia Southe...</td><td>&quot;SB&quot;</td><td>28</td><td>19</td><td>98.2</td><td>97.5</td><td>0.5203</td><td>47.3</td><td>46.2</td><td>18.3</td><td>22.0</td><td>32.6</td><td>32.2</td><td>36.2</td><td>32.7</td><td>47.5</td><td>45.9</td><td>31.4</td><td>31.2</td><td>63.8</td><td>-4.6</td><td>&quot;NA&quot;</td><td>&quot;NA&quot;</td><td>2015</td></tr><tr><td>&quot;Georgia Southe...</td><td>&quot;SB&quot;</td><td>29</td><td>12</td><td>103.9</td><td>108.0</td><td>0.3913</td><td>47.5</td><td>51.8</td><td>16.2</td><td>20.0</td><td>29.7</td><td>34.5</td><td>37.7</td><td>44.5</td><td>45.6</td><td>52.5</td><td>33.3</td><td>33.8</td><td>69.5</td><td>-11.4</td><td>&quot;NA&quot;</td><td>&quot;NA&quot;</td><td>2016</td></tr><tr><td>&quot;Georgia St.&quot;</td><td>&quot;SB&quot;</td><td>28</td><td>14</td><td>99.7</td><td>99.8</td><td>0.4947</td><td>48.5</td><td>47.9</td><td>18.0</td><td>21.2</td><td>24.5</td><td>31.0</td><td>37.5</td><td>41.3</td><td>47.1</td><td>47.0</td><td>34.8</td><td>32.8</td><td>65.4</td><td>-8.6</td><td>&quot;NA&quot;</td><td>&quot;NA&quot;</td><td>2016</td></tr><tr><td>&quot;Georgia Southe...</td><td>&quot;SB&quot;</td><td>31</td><td>18</td><td>104.4</td><td>106.5</td><td>0.4424</td><td>51.5</td><td>51.3</td><td>17.0</td><td>18.7</td><td>25.2</td><td>33.0</td><td>39.9</td><td>34.7</td><td>49.2</td><td>51.4</td><td>36.3</td><td>34.1</td><td>69.7</td><td>-8.0</td><td>&quot;NA&quot;</td><td>&quot;NA&quot;</td><td>2017</td></tr><tr><td>&quot;Georgia St.&quot;</td><td>&quot;SB&quot;</td><td>31</td><td>20</td><td>103.0</td><td>99.8</td><td>0.5883</td><td>53.0</td><td>49.0</td><td>20.0</td><td>19.8</td><td>29.9</td><td>29.1</td><td>33.9</td><td>40.0</td><td>53.3</td><td>49.4</td><td>35.0</td><td>32.4</td><td>69.6</td><td>-5.9</td><td>&quot;NA&quot;</td><td>&quot;NA&quot;</td><td>2017</td></tr><tr><td>&quot;Georgia Southe...</td><td>&quot;SB&quot;</td><td>31</td><td>21</td><td>104.8</td><td>104.0</td><td>0.5225</td><td>49.2</td><td>49.7</td><td>16.1</td><td>20.3</td><td>30.3</td><td>31.9</td><td>38.2</td><td>35.2</td><td>48.4</td><td>50.4</td><td>33.6</td><td>32.4</td><td>69.9</td><td>-6.5</td><td>&quot;NA&quot;</td><td>&quot;NA&quot;</td><td>2018</td></tr><tr><td>&quot;Georgia Southe...</td><td>&quot;SB&quot;</td><td>31</td><td>21</td><td>107.3</td><td>100.3</td><td>0.6826</td><td>54.3</td><td>51.4</td><td>18.6</td><td>20.0</td><td>27.4</td><td>28.7</td><td>35.0</td><td>31.3</td><td>56.8</td><td>51.7</td><td>32.4</td><td>34.0</td><td>74.8</td><td>-4.9</td><td>&quot;NA&quot;</td><td>&quot;NA&quot;</td><td>2019</td></tr><tr><td>...</td><td>...</td><td>...</td><td>...</td><td>...</td><td>...</td><td>...</td><td>...</td><td>...</td><td>...</td><td>...</td><td>...</td><td>...</td><td>...</td><td>...</td><td>...</td><td>...</td><td>...</td><td>...</td><td>...</td><td>...</td><td>...</td><td>...</td><td>...</td></tr><tr><td>&quot;Georgia&quot;</td><td>&quot;SEC&quot;</td><td>34</td><td>20</td><td>107.9</td><td>99.0</td><td>0.7275</td><td>48.9</td><td>45.9</td><td>20.0</td><td>16.0</td><td>35.3</td><td>29.8</td><td>54.1</td><td>43.4</td><td>47.5</td><td>44.8</td><td>34.9</td><td>31.9</td><td>64.5</td><td>-1.8</td><td>&quot;NA&quot;</td><td>&quot;NA&quot;</td><td>2014</td></tr><tr><td>&quot;Georgia Southe...</td><td>&quot;SC&quot;</td><td>31</td><td>12</td><td>97.9</td><td>110.1</td><td>0.2072</td><td>48.8</td><td>51.8</td><td>17.9</td><td>18.1</td><td>30.3</td><td>30.3</td><td>36.9</td><td>32.8</td><td>48.4</td><td>51.5</td><td>33.0</td><td>34.9</td><td>66.7</td><td>-14.5</td><td>&quot;NA&quot;</td><td>&quot;NA&quot;</td><td>2014</td></tr><tr><td>&quot;Georgia St.&quot;</td><td>&quot;SB&quot;</td><td>32</td><td>23</td><td>114.0</td><td>104.3</td><td>0.736</td><td>53.1</td><td>49.6</td><td>11.9</td><td>20.1</td><td>24.9</td><td>34.1</td><td>38.8</td><td>36.0</td><td>51.1</td><td>48.3</td><td>38.0</td><td>34.3</td><td>66.0</td><td>-2.2</td><td>&quot;NA&quot;</td><td>&quot;NA&quot;</td><td>2014</td></tr><tr><td>&quot;Georgia Tech&quot;</td><td>&quot;ACC&quot;</td><td>33</td><td>16</td><td>105.7</td><td>97.9</td><td>0.7082</td><td>47.8</td><td>47.4</td><td>18.4</td><td>15.4</td><td>32.7</td><td>28.5</td><td>34.4</td><td>37.9</td><td>48.0</td><td>46.2</td><td>31.5</td><td>33.2</td><td>66.2</td><td>-4.5</td><td>&quot;NA&quot;</td><td>&quot;NA&quot;</td><td>2014</td></tr><tr><td>&quot;Georgia St.&quot;</td><td>&quot;CAA&quot;</td><td>30</td><td>14</td><td>103.6</td><td>104.6</td><td>0.4716</td><td>50.0</td><td>51.1</td><td>18.0</td><td>20.9</td><td>29.4</td><td>32.7</td><td>34.9</td><td>37.0</td><td>48.0</td><td>48.7</td><td>35.7</td><td>36.6</td><td>64.1</td><td>-10.9</td><td>&quot;NA&quot;</td><td>&quot;NA&quot;</td><td>2013</td></tr><tr><td>&quot;Georgia&quot;</td><td>&quot;SEC&quot;</td><td>32</td><td>15</td><td>100.9</td><td>94.4</td><td>0.6817</td><td>46.9</td><td>45.0</td><td>23.0</td><td>18.5</td><td>32.1</td><td>30.5</td><td>45.0</td><td>37.9</td><td>43.5</td><td>42.3</td><td>35.7</td><td>32.9</td><td>62.3</td><td>-6.3</td><td>&quot;NA&quot;</td><td>&quot;NA&quot;</td><td>2013</td></tr><tr><td>&quot;Georgia Tech&quot;</td><td>&quot;ACC&quot;</td><td>31</td><td>16</td><td>99.6</td><td>91.1</td><td>0.7369</td><td>46.8</td><td>45.4</td><td>19.3</td><td>19.0</td><td>32.6</td><td>28.3</td><td>28.0</td><td>33.0</td><td>46.4</td><td>43.8</td><td>31.8</td><td>32.3</td><td>66.4</td><td>-4.8</td><td>&quot;NA&quot;</td><td>&quot;NA&quot;</td><td>2013</td></tr><tr><td>&quot;Georgia Southe...</td><td>&quot;SC&quot;</td><td>31</td><td>12</td><td>94.6</td><td>106.3</td><td>0.2071</td><td>45.9</td><td>49.7</td><td>20.1</td><td>20.5</td><td>30.9</td><td>34.4</td><td>35.4</td><td>37.0</td><td>44.2</td><td>50.8</td><td>33.1</td><td>31.8</td><td>62.2</td><td>-13.9</td><td>&quot;NA&quot;</td><td>&quot;NA&quot;</td><td>2013</td></tr><tr><td>&quot;Georgia St.&quot;</td><td>&quot;SB&quot;</td><td>34</td><td>24</td><td>109.5</td><td>98.0</td><td>0.7802</td><td>52.0</td><td>45.8</td><td>16.3</td><td>23.2</td><td>30.0</td><td>34.8</td><td>37.7</td><td>39.8</td><td>53.4</td><td>43.1</td><td>32.2</td><td>33.1</td><td>63.2</td><td>-3.0</td><td>&quot;R32&quot;</td><td>&quot;14&quot;</td><td>2015</td></tr><tr><td>&quot;Georgia St.&quot;</td><td>&quot;SB&quot;</td><td>33</td><td>24</td><td>108.8</td><td>101.5</td><td>0.6894</td><td>53.9</td><td>47.1</td><td>16.7</td><td>20.6</td><td>25.6</td><td>33.4</td><td>30.9</td><td>38.6</td><td>50.9</td><td>44.0</td><td>38.7</td><td>33.8</td><td>67.7</td><td>-5.1</td><td>&quot;R64&quot;</td><td>&quot;15&quot;</td><td>2018</td></tr><tr><td>&quot;Georgia St.&quot;</td><td>&quot;SB&quot;</td><td>33</td><td>24</td><td>106.4</td><td>101.1</td><td>0.6418</td><td>53.7</td><td>50.3</td><td>16.4</td><td>21.0</td><td>23.0</td><td>33.8</td><td>35.4</td><td>30.9</td><td>51.2</td><td>51.2</td><td>38.1</td><td>32.8</td><td>71.3</td><td>-1.3</td><td>&quot;R64&quot;</td><td>&quot;14&quot;</td><td>2019</td></tr><tr><td>&quot;Georgia&quot;</td><td>&quot;SEC&quot;</td><td>33</td><td>21</td><td>107.6</td><td>92.6</td><td>0.8482</td><td>48.5</td><td>44.4</td><td>19.2</td><td>16.7</td><td>32.2</td><td>28.5</td><td>47.7</td><td>34.3</td><td>47.2</td><td>43.2</td><td>34.2</td><td>31.2</td><td>64.8</td><td>1.6</td><td>&quot;R64&quot;</td><td>&quot;10&quot;</td><td>2015</td></tr></tbody></table></div>"
      ],
      "text/plain": [
       "shape: (28, 24)\n",
       "┌──────────────┬──────┬─────┬─────┬─────┬──────┬────────────┬──────┬──────┐\n",
       "│ TEAM         ┆ CONF ┆ G   ┆ W   ┆ ... ┆ WAB  ┆ POSTSEASON ┆ SEED ┆ YEAR │\n",
       "│ ---          ┆ ---  ┆ --- ┆ --- ┆     ┆ ---  ┆ ---        ┆ ---  ┆ ---  │\n",
       "│ str          ┆ str  ┆ i64 ┆ i64 ┆     ┆ f64  ┆ str        ┆ str  ┆ i64  │\n",
       "╞══════════════╪══════╪═════╪═════╪═════╪══════╪════════════╪══════╪══════╡\n",
       "│ Georgia Tech ┆ ACC  ┆ 31  ┆ 12  ┆ ... ┆ -6.1 ┆ NA         ┆ NA   ┆ 2015 │\n",
       "│ Georgia Tech ┆ ACC  ┆ 36  ┆ 21  ┆ ... ┆ 0.0  ┆ NA         ┆ NA   ┆ 2016 │\n",
       "│ Georgia Tech ┆ ACC  ┆ 36  ┆ 21  ┆ ... ┆ -2.1 ┆ NA         ┆ NA   ┆ 2017 │\n",
       "│ Georgia Tech ┆ ACC  ┆ 32  ┆ 13  ┆ ... ┆ -6.7 ┆ NA         ┆ NA   ┆ 2018 │\n",
       "│ ...          ┆ ...  ┆ ... ┆ ... ┆ ... ┆ ...  ┆ ...        ┆ ...  ┆ ...  │\n",
       "│ Georgia St.  ┆ SB   ┆ 34  ┆ 24  ┆ ... ┆ -3.0 ┆ R32        ┆ 14   ┆ 2015 │\n",
       "│ Georgia St.  ┆ SB   ┆ 33  ┆ 24  ┆ ... ┆ -5.1 ┆ R64        ┆ 15   ┆ 2018 │\n",
       "│ Georgia St.  ┆ SB   ┆ 33  ┆ 24  ┆ ... ┆ -1.3 ┆ R64        ┆ 14   ┆ 2019 │\n",
       "│ Georgia      ┆ SEC  ┆ 33  ┆ 21  ┆ ... ┆ 1.6  ┆ R64        ┆ 10   ┆ 2015 │\n",
       "└──────────────┴──────┴─────┴─────┴─────┴──────┴────────────┴──────┴──────┘"
      ]
     },
     "execution_count": 347,
     "metadata": {},
     "output_type": "execute_result"
    }
   ],
   "source": [
    "ga"
   ]
  },
  {
   "cell_type": "code",
   "execution_count": 348,
   "metadata": {},
   "outputs": [
    {
     "name": "stdout",
     "output_type": "stream",
     "text": [
      "S16\n",
      "shape: (0, 2)\n",
      "┌──────┬───────┐\n",
      "│ TEAM ┆ count │\n",
      "│ ---  ┆ ---   │\n",
      "│ str  ┆ u32   │\n",
      "╞══════╪═══════╡\n",
      "└──────┴───────┘\n",
      "E8\n",
      "shape: (0, 2)\n",
      "┌──────┬───────┐\n",
      "│ TEAM ┆ count │\n",
      "│ ---  ┆ ---   │\n",
      "│ str  ┆ u32   │\n",
      "╞══════╪═══════╡\n",
      "└──────┴───────┘\n",
      "F4\n",
      "shape: (0, 2)\n",
      "┌──────┬───────┐\n",
      "│ TEAM ┆ count │\n",
      "│ ---  ┆ ---   │\n",
      "│ str  ┆ u32   │\n",
      "╞══════╪═══════╡\n",
      "└──────┴───────┘\n",
      "2ND\n",
      "shape: (0, 2)\n",
      "┌──────┬───────┐\n",
      "│ TEAM ┆ count │\n",
      "│ ---  ┆ ---   │\n",
      "│ str  ┆ u32   │\n",
      "╞══════╪═══════╡\n",
      "└──────┴───────┘\n",
      "Champions\n",
      "shape: (0, 2)\n",
      "┌──────┬───────┐\n",
      "│ TEAM ┆ count │\n",
      "│ ---  ┆ ---   │\n",
      "│ str  ┆ u32   │\n",
      "╞══════╪═══════╡\n",
      "└──────┴───────┘\n"
     ]
    }
   ],
   "source": [
    "good_ranking = ['S16', 'E8', 'F4', '2ND', 'Champions']\n",
    "# do we have any teams that have been in any of these good rankings?\n",
    "\n",
    "for r in good_ranking:\n",
    "    print(r)\n",
    "    print(ga.filter(pl.col(\"POSTSEASON\") == r).groupby(\"TEAM\").count())\n",
    "\n",
    "#hope."
   ]
  },
  {
   "cell_type": "code",
   "execution_count": 349,
   "metadata": {},
   "outputs": [
    {
     "data": {
      "text/html": [
       "<div><style>\n",
       ".dataframe > thead > tr > th,\n",
       ".dataframe > tbody > tr > td {\n",
       "  text-align: right;\n",
       "}\n",
       "</style>\n",
       "<small>shape: (3, 2)</small><table border=\"1\" class=\"dataframe\"><thead><tr><th>POSTSEASON</th><th>count</th></tr><tr><td>str</td><td>u32</td></tr></thead><tbody><tr><td>&quot;NA&quot;</td><td>24</td></tr><tr><td>&quot;R64&quot;</td><td>3</td></tr><tr><td>&quot;R32&quot;</td><td>1</td></tr></tbody></table></div>"
      ],
      "text/plain": [
       "shape: (3, 2)\n",
       "┌────────────┬───────┐\n",
       "│ POSTSEASON ┆ count │\n",
       "│ ---        ┆ ---   │\n",
       "│ str        ┆ u32   │\n",
       "╞════════════╪═══════╡\n",
       "│ NA         ┆ 24    │\n",
       "│ R64        ┆ 3     │\n",
       "│ R32        ┆ 1     │\n",
       "└────────────┴───────┘"
      ]
     },
     "execution_count": 349,
     "metadata": {},
     "output_type": "execute_result"
    }
   ],
   "source": [
    "#nope, no hope for Georgia teams. what's the best we did?\n",
    "\n",
    "ga.filter(pl.col(\"TEAM\").str.contains(\"Georgia\")).groupby(\"POSTSEASON\").count()"
   ]
  },
  {
   "cell_type": "code",
   "execution_count": 350,
   "metadata": {},
   "outputs": [
    {
     "data": {
      "text/html": [
       "<div><style>\n",
       ".dataframe > thead > tr > th,\n",
       ".dataframe > tbody > tr > td {\n",
       "  text-align: right;\n",
       "}\n",
       "</style>\n",
       "<small>shape: (1, 2)</small><table border=\"1\" class=\"dataframe\"><thead><tr><th>TEAM</th><th>count</th></tr><tr><td>str</td><td>u32</td></tr></thead><tbody><tr><td>&quot;Georgia St.&quot;</td><td>1</td></tr></tbody></table></div>"
      ],
      "text/plain": [
       "shape: (1, 2)\n",
       "┌─────────────┬───────┐\n",
       "│ TEAM        ┆ count │\n",
       "│ ---         ┆ ---   │\n",
       "│ str         ┆ u32   │\n",
       "╞═════════════╪═══════╡\n",
       "│ Georgia St. ┆ 1     │\n",
       "└─────────────┴───────┘"
      ]
     },
     "execution_count": 350,
     "metadata": {},
     "output_type": "execute_result"
    }
   ],
   "source": [
    "# who did R32?\n",
    "\n",
    "ga.filter(pl.col(\"POSTSEASON\") == 'R32').groupby(\"TEAM\").count()"
   ]
  },
  {
   "cell_type": "code",
   "execution_count": 351,
   "metadata": {},
   "outputs": [
    {
     "data": {
      "text/html": [
       "<div><style>\n",
       ".dataframe > thead > tr > th,\n",
       ".dataframe > tbody > tr > td {\n",
       "  text-align: right;\n",
       "}\n",
       "</style>\n",
       "<small>shape: (1, 2)</small><table border=\"1\" class=\"dataframe\"><thead><tr><th>YEAR</th><th>count</th></tr><tr><td>i64</td><td>u32</td></tr></thead><tbody><tr><td>2015</td><td>1</td></tr></tbody></table></div>"
      ],
      "text/plain": [
       "shape: (1, 2)\n",
       "┌──────┬───────┐\n",
       "│ YEAR ┆ count │\n",
       "│ ---  ┆ ---   │\n",
       "│ i64  ┆ u32   │\n",
       "╞══════╪═══════╡\n",
       "│ 2015 ┆ 1     │\n",
       "└──────┴───────┘"
      ]
     },
     "execution_count": 351,
     "metadata": {},
     "output_type": "execute_result"
    }
   ],
   "source": [
    "#oh! good job panthers! what year was that? \n",
    "ga.filter(pl.col(\"POSTSEASON\") == 'R32').groupby(\"YEAR\").count() # 2015? cool! "
   ]
  },
  {
   "cell_type": "code",
   "execution_count": 354,
   "metadata": {},
   "outputs": [
    {
     "data": {
      "text/html": [
       "<div><style>\n",
       ".dataframe > thead > tr > th,\n",
       ".dataframe > tbody > tr > td {\n",
       "  text-align: right;\n",
       "}\n",
       "</style>\n",
       "<small>shape: (2, 2)</small><table border=\"1\" class=\"dataframe\"><thead><tr><th>POSTSEASON</th><th>count</th></tr><tr><td>str</td><td>u32</td></tr></thead><tbody><tr><td>&quot;NA&quot;</td><td>6</td></tr><tr><td>&quot;R64&quot;</td><td>1</td></tr></tbody></table></div>"
      ],
      "text/plain": [
       "shape: (2, 2)\n",
       "┌────────────┬───────┐\n",
       "│ POSTSEASON ┆ count │\n",
       "│ ---        ┆ ---   │\n",
       "│ str        ┆ u32   │\n",
       "╞════════════╪═══════╡\n",
       "│ NA         ┆ 6     │\n",
       "│ R64        ┆ 1     │\n",
       "└────────────┴───────┘"
      ]
     },
     "execution_count": 354,
     "metadata": {},
     "output_type": "execute_result"
    }
   ],
   "source": [
    "# what did gatech do?\n",
    "\n",
    "ga.filter(pl.col(\"TEAM\") == \"Georgia\").groupby(\"POSTSEASON\").count()"
   ]
  },
  {
   "cell_type": "code",
   "execution_count": null,
   "metadata": {},
   "outputs": [],
   "source": []
  }
 ],
 "metadata": {
  "kernelspec": {
   "display_name": "base",
   "language": "python",
   "name": "python3"
  },
  "language_info": {
   "codemirror_mode": {
    "name": "ipython",
    "version": 3
   },
   "file_extension": ".py",
   "mimetype": "text/x-python",
   "name": "python",
   "nbconvert_exporter": "python",
   "pygments_lexer": "ipython3",
   "version": "3.9.13"
  },
  "orig_nbformat": 4
 },
 "nbformat": 4,
 "nbformat_minor": 2
}
